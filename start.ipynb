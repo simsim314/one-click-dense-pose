{
 "cells": [
  {
   "cell_type": "code",
   "execution_count": null,
   "id": "d6316a1b-ffc4-41c7-aa58-8904449f225e",
   "metadata": {},
   "outputs": [],
   "source": [
    "!git clone https://github.com/Pawandeep-prog/one-click-dense-pose.git\n",
    "%cd one-click-dense-pose\n",
    "!pip install -r requirements.txt\n",
    "!sh download."
   ]
  }
 ],
 "metadata": {
  "kernelspec": {
   "display_name": "Python 3 (ipykernel)",
   "language": "python",
   "name": "python3"
  },
  "language_info": {
   "codemirror_mode": {
    "name": "ipython",
    "version": 3
   },
   "file_extension": ".py",
   "mimetype": "text/x-python",
   "name": "python",
   "nbconvert_exporter": "python",
   "pygments_lexer": "ipython3",
   "version": "3.10.12"
  }
 },
 "nbformat": 4,
 "nbformat_minor": 5
}
